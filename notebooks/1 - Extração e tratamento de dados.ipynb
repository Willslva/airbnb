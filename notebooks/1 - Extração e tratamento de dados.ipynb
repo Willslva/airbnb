{
 "cells": [
  {
   "cell_type": "markdown",
   "metadata": {
    "id": "0zxQHhIUDF_2"
   },
   "source": [
    "# Importando Pacotes"
   ]
  },
  {
   "cell_type": "code",
   "execution_count": 1,
   "metadata": {},
   "outputs": [],
   "source": [
    "import os"
   ]
  },
  {
   "cell_type": "code",
   "execution_count": 2,
   "metadata": {},
   "outputs": [],
   "source": [
    "os.chdir('../')"
   ]
  },
  {
   "cell_type": "code",
   "execution_count": 3,
   "metadata": {
    "scrolled": true
   },
   "outputs": [],
   "source": [
    "import pandas as pd\n",
    "import matplotlib.pyplot as plt\n",
    "import ast\n",
    "import re\n",
    "\n",
    "from langdetect import detect, DetectorFactory\n",
    "from datetime import datetime\n",
    "from src import constants\n",
    "from src.features import features"
   ]
  },
  {
   "cell_type": "code",
   "execution_count": 4,
   "metadata": {},
   "outputs": [],
   "source": [
    "pd.set_option('display.max_columns', 500)\n",
    "pd.set_option('display.max_rows', 500)"
   ]
  },
  {
   "cell_type": "code",
   "execution_count": 5,
   "metadata": {},
   "outputs": [],
   "source": [
    "today = datetime.now()"
   ]
  },
  {
   "cell_type": "code",
   "execution_count": 6,
   "metadata": {},
   "outputs": [],
   "source": [
    "DetectorFactory.seed = 0"
   ]
  },
  {
   "cell_type": "code",
   "execution_count": 7,
   "metadata": {},
   "outputs": [],
   "source": [
    "def detect_language(text):\n",
    "    try:\n",
    "        return detect(text)\n",
    "    except:\n",
    "        return \"unknown\""
   ]
  },
  {
   "cell_type": "code",
   "execution_count": 8,
   "metadata": {},
   "outputs": [],
   "source": [
    "def format_interval(interval_str):\n",
    "    match = re.match(r\"\\((.*?), (.*?)\\]\", interval_str)\n",
    "    if match:\n",
    "        lower = int(round(float(match.group(1))))\n",
    "        upper = int(round(float(match.group(2))))\n",
    "        return f\"[{lower} - {upper}]\"\n",
    "    else:\n",
    "        return interval_str "
   ]
  },
  {
   "cell_type": "markdown",
   "metadata": {},
   "source": [
    "# Leitura das bases"
   ]
  },
  {
   "cell_type": "code",
   "execution_count": 8,
   "metadata": {},
   "outputs": [],
   "source": [
    "listings = pd.read_csv(\"data/raw/listings.csv\")\n",
    "calendar = pd.read_csv(\"data/raw/calendar.csv\")\n",
    "reviews = pd.read_csv(\"data/raw/reviews.csv\")"
   ]
  },
  {
   "cell_type": "code",
   "execution_count": 9,
   "metadata": {},
   "outputs": [],
   "source": [
    "calendar = calendar\\\n",
    ".query(f\"\"\"date == '{listings['last_scraped'].unique()[0]}'\"\"\")\\\n",
    ".reset_index(drop=True)"
   ]
  },
  {
   "cell_type": "markdown",
   "metadata": {},
   "source": [
    "# Contexto das bases"
   ]
  },
  {
   "cell_type": "markdown",
   "metadata": {},
   "source": [
    "Todos os dados utilizados aqui foram obtidos a partir do portal [Inside Airbnb](http://insideairbnb.com/get-the-data.html).\n",
    "\n",
    "\n",
    "- listings.csv: Contém informações detalhadas sobre os imóveis listados em Hong Kong, incluindo dados como tipo de propriedade, localização, preço, capacidade, e comodidades oferecidas.\n",
    "\n",
    "- calendar.csv: Fornece informações sobre a disponibilidade e reservas de imóveis em Hong Kong, incluindo datas de check-in e check-out, status de reservas e preços por noite.\n",
    "\n",
    "- reviews.csv: Inclui dados sobre as avaliações e comentários deixados pelos hóspedes para imóveis em Hong Kong, com detalhes como classificações, comentários dos hóspedes e datas das avaliações."
   ]
  },
  {
   "cell_type": "markdown",
   "metadata": {},
   "source": [
    "**Base excluída:**\n",
    "\n",
    "``calendar``:\n",
    "\n",
    "Após análise dos dados fornecidos pelo Airbnb de Hong Kong, foram observadas divergências entre os preços dos imóveis nas bases de dados listings.csv e calendar.csv.\n",
    "\n",
    "Especificamente, foi constatado que em 56% dos imóveis, os preços registrados na base listings não correspondem aos preços na base calendar.\n",
    "\n",
    "Dado esse cenário, foi decidido utilizar os preços presentes na base listings como a fonte principal de informação. \n"
   ]
  },
  {
   "cell_type": "markdown",
   "metadata": {
    "id": "qb5By2nIMS6m"
   },
   "source": [
    "# Dicionário"
   ]
  },
  {
   "cell_type": "markdown",
   "metadata": {},
   "source": [
    "### Listings"
   ]
  },
  {
   "cell_type": "markdown",
   "metadata": {},
   "source": [
    "| Variável  |   Tipo   |       Descrição       | referencia |\n",
    "|-----------|----------|-----------------------|--|\n",
    "| id\t| int64\t|Identificador único do anúncio| Imóvel|\n",
    "|listing_url|\tobject\t|URL do anúncio\tImóvel|\tImóvel|\n",
    "|scrape_id|\tint64\t|Identificador único da raspagem|\tImóvel|\n",
    "|last_scraped|\tobject\t|Data da última raspagem de dados|\tImóvel|\n",
    "| source|\tobject\t|Fonte dos dados|\tImóvel|\n",
    "| name|\tobject\t|Nome do imóvel|\tImóvel|\n",
    "| description|\tobject|\tDescrição do imóvel\t|Imóvel|\n",
    "| neighborhood_overview|\tobject|\tVisão geral da vizinhança|\tLocalização|\n",
    "| picture_url|\tobject\t|URL da imagem principal do imóvel|\tImóvel|\n",
    "| host_id|\tint64|\tIdentificador único do anfitrião|\tProprietário|\n",
    "| host_url|\tobject|\tURL do perfil do anfitrião\t|Proprietário|\n",
    "| host_name|\tobject\t|Nome do anfitrião|\tProprietário|\n",
    "| host_since|\tobject\t|Data desde quando o anfitrião está ativo\t|Proprietário|\n",
    "| host_location|\tobject|\tLocalização do anfitrião|\tProprietário|\n",
    "| host_about|\tobject|\tDescrição sobre o anfitrião|\tProprietário|\n",
    "| host_response_time|\tobject\t|Tempo de resposta do anfitrião\t|Proprietário|\n",
    "| host_response_rate|\tobject\t|Taxa de resposta do anfitrião\t|Proprietário|\n",
    "| host_acceptance_rate|\tobject\t|Taxa de aceitação do anfitrião\t|Proprietário|\n",
    "| host_is_superhost|\tobject\t|Indica se o anfitrião é um superhost\t|Proprietário|\n",
    "| host_thumbnail_url|\tobject\t|URL da miniatura da foto do anfitrião\t|Proprietário|\n",
    "| host_picture_url|\tobject\t|URL da foto do anfitrião\t|Proprietário|\n",
    "| host_neighbourhood|\tobject\t|Bairro do anfitrião\t|Proprietário|\n",
    "| host_listings_count|\tint64\t|Número de imóveis do anfitrião\t|Proprietário|\n",
    "| host_total_listings_count|\tint64\t|Total de imóveis do anfitrião\t|Proprietário|\n",
    "| host_verifications|\tobject\t|Verificações do anfitrião\t|Proprietário|\n",
    "| host_has_profile_pic|\tobject\t|Indica se o anfitrião tem foto de perfil\t|Proprietário|\n",
    "| host_identity_verified|\tobject\t|Indica se a identidade do anfitrião foi verificada\t|Proprietário|\n",
    "| neighbourhood|\tobject\t|Bairro do imóvel\t|Localização|\n",
    "| neighbourhood_cleansed|\tobject\t|Bairro do imóvel (limpo)\t|Localização|\n",
    "| neighbourhood_group_cleansed|\tfloat64\t|Grupo de bairros do imóvel (limpo)\t|Localização|\n",
    "| latitude|\tfloat64\t|Latitude do imóvel\t|Localização|\n",
    "| longitude|\tfloat64\t|Longitude do imóvel\t|Localização|\n",
    "| property_type|\tobject\t|Tipo de propriedade\t|Imóvel|\n",
    "| room_type|\tobject\t|Tipo de quarto\t|Imóvel|\n",
    "| accommodates|\tint64\t|Capacidade de hóspedes\t|Imóvel|\n",
    "| bathrooms|\tfloat64\t|Número de banheiros\t|Imóvel|\n",
    "| bathrooms_text|\tobject\t|Descrição dos banheiros\t|Imóvel|\n",
    "| bedrooms|\tfloat64\t|Número de quartos|\tImóvel|\n",
    "| beds|\tfloat64\t|Número de camas\t|Imóvel|\n",
    "| amenities|\tobject\t|Comodidades do imóvel\t|Imóvel|\n",
    "| price|\tobject\t|Preço por noite\t|Imóvel|\n",
    "| minimum_nights|\tint64\t|Número mínimo de noites\t|Imóvel|\n",
    "| maximum_nights|\tint64\t|Número máximo de noites\t|Imóvel|\n",
    "| minimum_minimum_nights|\tint64\t|Mínimo de noites mínimas permitido\t|Imóvel|\n",
    "| maximum_minimum_nights|\tint64\t|Máximo de noites mínimas permitido\t|Imóvel|\n",
    "| minimum_maximum_nights|\tint64\t|Mínimo de noites máximas permitido\t|Imóvel|\n",
    "| maximum_maximum_nights|\tint64\t|Máximo de noites máximas permitido\t|Imóvel|\n",
    "| minimum_nights_avg_ntm|\tfloat64\t|Média de noites mínimas no último mês\t|Imóvel|\n",
    "| maximum_nights_avg_ntm|\tfloat64\t|Média de noites máximas no último mês\t|Imóvel|\n",
    "| calendar_updated|\tfloat64\t|Frequência de atualização do calendário\t|Imóvel|\n",
    "| has_availability|\tobject |Indica se há disponibilidade\t|Imóvel|\n",
    "| availability_30|\tint64\t|Disponibilidade nos próximos 30 dias\t|Imóvel|\n",
    "| availability_60|\tint64\t|Disponibilidade nos próximos 60 dias\t|Imóvel|\n",
    "| availability_90|\tint64\t|Disponibilidade nos próximos 90 dias\t|Imóvel|\n",
    "| availability_365|\tint64\t|Disponibilidade nos próximos 365 dias\t|Imóvel|\n",
    "| calendar_last_scraped|\tobject\t|Data da última raspagem do calendário\t|Imóvel|\n",
    "| number_of_reviews|\tint64\t|Número de avaliações\t|Imóvel|\n",
    "| number_of_reviews_ltm|\tint64\t|Número de avaliações no último ano\t|Imóvel|\n",
    "| number_of_reviews_l30d|\tint64\t|Número de avaliações nos últimos 30 dias\t|Imóvel|\n",
    "| first_review|\tobject\t|Data da primeira avaliação\t|Imóvel|\n",
    "| last_review|\tobject\t|Data da última avaliação\t|Imóvel|\n",
    "| review_scores_rating|\tfloat64\t|Nota geral das avaliações\t|Imóvel|\n",
    "| review_scores_accuracy|\tfloat64\t|Nota de precisão das avaliações\t|Imóvel|\n",
    "| review_scores_cleanliness|\tfloat64\t|Nota de limpeza das avaliações\t|Imóvel|\n",
    "| review_scores_checkin|\tfloat64\t|Nota de check-in das avaliações\t|Imóvel|\n",
    "| review_scores_communication|\tfloat64\t|Nota de comunicação das avaliações|\tImóvel|\n",
    "| review_scores_location|\tfloat64\t|Nota de localização das avaliações|\tImóvel|\n",
    "| review_scores_value|\tfloat64\t|Nota de valor das avaliações\t|Imóvel|\n",
    "| license|\tfloat64\t|Licença do imóvel\t|Imóvel|\n",
    "| instant_bookable|\tobject |Indica se o imóvel pode ser reservado instantaneamente\t|Imóvel|\n",
    "| calculated_host_listings_count|\tint64\t|Contagem de imóveis calculada do anfitrião\t|Proprietário|\n",
    "| calculated_host_listings_count_entire_homes|\tint64\t|Contagem de imóveis inteiros do anfitrião\t|Proprietário|\n",
    "| calculated_host_listings_count_private_rooms|\tint64\t|Contagem de quartos privados do anfitrião\t|Proprietário|\n",
    "| calculated_host_listings_count_shared_rooms|\tint64\t|Contagem de quartos compartilhados do anfitrião\t|Proprietário|\n",
    "| reviews_per_month|\tfloat64\t|Número de avaliações por mês\t|Imóvel|"
   ]
  },
  {
   "cell_type": "markdown",
   "metadata": {},
   "source": [
    "### Reviews"
   ]
  },
  {
   "cell_type": "markdown",
   "metadata": {},
   "source": [
    "| Variável  |   Tipo   |       Descrição       | referencia |\n",
    "|-----------|----------|-----------------------|--|\n",
    "|listing_id|\tint64|\tIdentificador único do anúncio associado ao comentário|\tImóvel|\n",
    "|id|\tint64|\tIdentificador único da review|\tReview|\n",
    "|date|\tobject|\tData da review|\tReview|\n",
    "|reviewer_id|\tint64|\tIdentificador único do usuário que fez a review|\tUsuário|\n",
    "|reviewer_name|\tobject|\tNome do usuário que fez a review|\tUsuário|\n",
    "|comments|\tobject|\tConteúdo do comentário feito pelo usuário|\tReview|\n"
   ]
  },
  {
   "cell_type": "markdown",
   "metadata": {},
   "source": [
    "# Preparação dos dados"
   ]
  },
  {
   "cell_type": "markdown",
   "metadata": {},
   "source": [
    "- Detecção de missing\n",
    "- Remoção de colunas \n",
    "- Alteração de tipagem dos dados"
   ]
  },
  {
   "cell_type": "code",
   "execution_count": 9,
   "metadata": {},
   "outputs": [],
   "source": [
    "listings['price'] = listings['price'].str.replace('[$,]', '', regex=True)\n",
    "listings['price'] = listings['price'].astype(float)"
   ]
  },
  {
   "cell_type": "code",
   "execution_count": 10,
   "metadata": {},
   "outputs": [],
   "source": [
    "listings[['host_response_rate', 'host_acceptance_rate']] = \\\n",
    "listings[['host_response_rate', 'host_acceptance_rate']]\\\n",
    ".apply(lambda x: x.str.replace('[%,]', '', regex=True))"
   ]
  },
  {
   "cell_type": "code",
   "execution_count": 11,
   "metadata": {},
   "outputs": [],
   "source": [
    "listings[['host_since', 'last_review', 'first_review']] = \\\n",
    "listings[['host_since', 'last_review', 'first_review']]\\\n",
    ".apply(pd.to_datetime)"
   ]
  },
  {
   "cell_type": "code",
   "execution_count": null,
   "metadata": {},
   "outputs": [],
   "source": [
    "reviews['language'] = reviews['comments'].apply(detect_language)"
   ]
  },
  {
   "cell_type": "code",
   "execution_count": null,
   "metadata": {},
   "outputs": [],
   "source": [
    "reviews = reviews.query(\"\"\"language == 'en'\"\"\")\\\n",
    ".reset_index(drop=True)"
   ]
  },
  {
   "cell_type": "code",
   "execution_count": null,
   "metadata": {},
   "outputs": [],
   "source": [
    "reviews_aggregated = reviews.groupby('listing_id').agg({\n",
    "    'comments': lambda x: ' '.join(x)\n",
    "}).reset_index()\\\n",
    ".rename(columns={'listing_id':'id'})\\\n",
    ".copy()"
   ]
  },
  {
   "cell_type": "code",
   "execution_count": null,
   "metadata": {},
   "outputs": [],
   "source": [
    "listings = pd.merge(\n",
    "    listings,\n",
    "    reviews_aggregated,\n",
    "    how='left',\n",
    "    on='id'\n",
    ")"
   ]
  },
  {
   "cell_type": "code",
   "execution_count": null,
   "metadata": {},
   "outputs": [],
   "source": [
    "listings.to_parquet('data/bronze/listings.parquet')"
   ]
  },
  {
   "cell_type": "markdown",
   "metadata": {},
   "source": [
    "# Feature Enginner"
   ]
  },
  {
   "cell_type": "code",
   "execution_count": 9,
   "metadata": {},
   "outputs": [],
   "source": [
    "listings = pd.read_parquet('data/bronze/listings.parquet')"
   ]
  },
  {
   "cell_type": "code",
   "execution_count": 10,
   "metadata": {},
   "outputs": [],
   "source": [
    "listings['host_years_active'] = (today - listings['host_since']).dt.days // 365.25"
   ]
  },
  {
   "cell_type": "code",
   "execution_count": 11,
   "metadata": {},
   "outputs": [],
   "source": [
    "binary_columns = [\n",
    "    'instant_bookable', 'host_is_superhost', \n",
    "    'has_availability', 'host_identity_verified',\n",
    "    'host_has_profile_pic'\n",
    "]"
   ]
  },
  {
   "cell_type": "code",
   "execution_count": 13,
   "metadata": {},
   "outputs": [],
   "source": [
    "listings[binary_columns] = listings[binary_columns]\\\n",
    ".replace({'t': 1, 'f': 0}).fillna(0) "
   ]
  },
  {
   "cell_type": "code",
   "execution_count": 14,
   "metadata": {},
   "outputs": [],
   "source": [
    "listings['price_range'] = pd\\\n",
    ".qcut(listings['price'], q=10)\\\n",
    ".astype(str)"
   ]
  },
  {
   "cell_type": "code",
   "execution_count": 15,
   "metadata": {},
   "outputs": [],
   "source": [
    "listings['host_listings_count_range'] = pd\\\n",
    ".qcut(listings['host_total_listings_count'], q=5)\\\n",
    ".astype(str)"
   ]
  },
  {
   "cell_type": "code",
   "execution_count": 16,
   "metadata": {},
   "outputs": [],
   "source": [
    "listings['host_years_active_range'] = pd\\\n",
    ".qcut(listings['host_years_active'], q=4)\\\n",
    ".astype(str)"
   ]
  },
  {
   "cell_type": "code",
   "execution_count": 17,
   "metadata": {},
   "outputs": [],
   "source": [
    "listings['host_listings_count_range'] = listings['host_listings_count_range'].apply(format_interval)"
   ]
  },
  {
   "cell_type": "code",
   "execution_count": 18,
   "metadata": {},
   "outputs": [],
   "source": [
    "listings['host_years_active_range'] = listings['host_years_active_range'].apply(format_interval)"
   ]
  },
  {
   "cell_type": "code",
   "execution_count": 20,
   "metadata": {},
   "outputs": [],
   "source": [
    "listings[[\n",
    "    'host_response_rate', \n",
    "    'host_acceptance_rate'\n",
    "]] = listings[[\n",
    "    'host_response_rate', \n",
    "    'host_acceptance_rate'\n",
    "]].fillna(0).astype(int)"
   ]
  },
  {
   "cell_type": "code",
   "execution_count": 21,
   "metadata": {},
   "outputs": [],
   "source": [
    "listings['host_verifications'] = listings['host_verifications']\\\n",
    ".apply(ast.literal_eval)\\\n",
    ".apply(lambda x: ', '.join(x))"
   ]
  },
  {
   "cell_type": "code",
   "execution_count": 22,
   "metadata": {},
   "outputs": [],
   "source": [
    "listings['last_review_month'] = listings['last_review'].dt.month"
   ]
  },
  {
   "cell_type": "code",
   "execution_count": 23,
   "metadata": {},
   "outputs": [],
   "source": [
    "for verification in ['email', 'phone', 'work_email']:\n",
    "    listings[verification] = listings['host_verifications'].str.contains(verification).astype(int)"
   ]
  },
  {
   "cell_type": "code",
   "execution_count": 24,
   "metadata": {},
   "outputs": [],
   "source": [
    "listings = listings.drop(\n",
    "    columns = constants.list_drop_listings\n",
    ")"
   ]
  },
  {
   "cell_type": "code",
   "execution_count": 25,
   "metadata": {},
   "outputs": [],
   "source": [
    "listings['sentiment'] = listings['comments']\\\n",
    ".apply(features.calculate_sentiment)"
   ]
  },
  {
   "cell_type": "code",
   "execution_count": 26,
   "metadata": {},
   "outputs": [],
   "source": [
    "listings['host_response_time'] = listings['host_response_time'].fillna('not informed')"
   ]
  },
  {
   "cell_type": "code",
   "execution_count": 27,
   "metadata": {},
   "outputs": [],
   "source": [
    "listings['host_years_active'] = listings['host_years_active'].astype(str)"
   ]
  },
  {
   "cell_type": "code",
   "execution_count": 28,
   "metadata": {},
   "outputs": [],
   "source": [
    "listings['is_positive_sentiment'] = listings['sentiment']\\\n",
    ".apply(lambda x: 1 if x > 0.5 else 0)"
   ]
  },
  {
   "cell_type": "code",
   "execution_count": 29,
   "metadata": {},
   "outputs": [],
   "source": [
    "listings.to_parquet('data/silver/listings.parquet')"
   ]
  }
 ],
 "metadata": {
  "colab": {
   "collapsed_sections": [],
   "include_colab_link": true,
   "name": "Analisando os Dados do Airbnb - Hong Kong.ipynb",
   "provenance": []
  },
  "kernelspec": {
   "display_name": "Python 3 (ipykernel)",
   "language": "python",
   "name": "python3"
  },
  "language_info": {
   "codemirror_mode": {
    "name": "ipython",
    "version": 3
   },
   "file_extension": ".py",
   "mimetype": "text/x-python",
   "name": "python",
   "nbconvert_exporter": "python",
   "pygments_lexer": "ipython3",
   "version": "3.11.9"
  }
 },
 "nbformat": 4,
 "nbformat_minor": 4
}
