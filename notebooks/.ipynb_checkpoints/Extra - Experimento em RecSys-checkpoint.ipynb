{
 "cells": [
  {
   "cell_type": "code",
   "execution_count": 1,
   "id": "9ec417b0-2353-4eb3-a2e6-b239843e0077",
   "metadata": {},
   "outputs": [],
   "source": [
    "import numpy as np\n",
    "from sko.PSO import PSO"
   ]
  },
  {
   "cell_type": "code",
   "execution_count": 41,
   "id": "6e971de0-b002-4533-96de-eb0717c898f9",
   "metadata": {},
   "outputs": [],
   "source": [
    "import numpy as np\n",
    "from numba import njit\n",
    "\n",
    "#@njit(parallel=True)\n",
    "def calcular_custo(interactions, matriz_users, matriz_items, penalidade=0.1):\n",
    "    interactions_predicted = np.dot(matriz_users, matriz_items.T)\n",
    "    diferenca = interactions - interactions_predicted\n",
    "    norma_diferenca = np.linalg.norm(diferenca, ord='fro')\n",
    "    norma_interacoes_previstas = np.linalg.norm(interactions_predicted, ord='fro')\n",
    "    custo_total = norma_diferenca + penalidade * norma_interacoes_previstas\n",
    "    return custo_total\n",
    "\n",
    "#@njit\n",
    "def objetivo(params):\n",
    "    global num_usuarios, num_itens, p, interactions\n",
    "    matriz_users = params[:num_usuarios * p].reshape((num_usuarios, p))\n",
    "    matriz_items = params[num_usuarios * p:].reshape((num_itens, p))\n",
    "    return calcular_custo(interactions, matriz_users, matriz_items)"
   ]
  },
  {
   "cell_type": "code",
   "execution_count": 66,
   "id": "a168655d-5a64-432b-a780-0e635fae05a5",
   "metadata": {},
   "outputs": [],
   "source": [
    "# Definindo parâmetros\n",
    "num_usuarios = 5\n",
    "num_itens = 10\n",
    "p = 8\n",
    "penalidade = 0.1\n",
    "densidade_uns = 0.1\n",
    "interactions = np.random.binomial(1, densidade_uns, size=(num_usuarios, num_itens))\n",
    "\n",
    "# Definindo limites para as matrizes\n",
    "limites = [(0, 1)] * (num_usuarios * p + num_itens * p)"
   ]
  },
  {
   "cell_type": "code",
   "execution_count": 67,
   "id": "ee5dd892-c0b5-4345-a33c-ad98bc6ca86b",
   "metadata": {},
   "outputs": [
    {
     "data": {
      "text/plain": [
       "(5, 10)"
      ]
     },
     "execution_count": 67,
     "metadata": {},
     "output_type": "execute_result"
    }
   ],
   "source": [
    "interactions.shape"
   ]
  },
  {
   "cell_type": "code",
   "execution_count": 68,
   "id": "ced2c4df-78bf-47d3-ab47-81e3759f9d58",
   "metadata": {},
   "outputs": [],
   "source": [
    "limites = [(0, 1)] * (num_usuarios * p + num_itens * p)"
   ]
  },
  {
   "cell_type": "code",
   "execution_count": 69,
   "id": "9c49c0a6-a7e8-4ccf-9314-f1504aab99ee",
   "metadata": {},
   "outputs": [
    {
     "name": "stdout",
     "output_type": "stream",
     "text": [
      "CPU times: total: 8.31 s\n",
      "Wall time: 8.31 s\n"
     ]
    }
   ],
   "source": [
    "%%time\n",
    "# Executando PSO\n",
    "pso = PSO(\n",
    "    func=objetivo, \n",
    "    dim=num_usuarios * p + num_itens * p, \n",
    "    pop=1_000, \n",
    "    max_iter=500, \n",
    "    lb=[lim[0] for lim in limites], \n",
    "    ub=[lim[1] for lim in limites]\n",
    ")\n",
    "best_params, best_cost = pso.run()"
   ]
  },
  {
   "cell_type": "code",
   "execution_count": 70,
   "id": "36bd2aa8-370f-4743-9309-eb569d6e9c2e",
   "metadata": {},
   "outputs": [
    {
     "name": "stdout",
     "output_type": "stream",
     "text": [
      "Matriz de Usuários Otimizada:\n",
      "[[0.         0.11243503 0.         0.         0.         1.\n",
      "  1.         0.        ]\n",
      " [0.         0.         0.         0.         0.         1.\n",
      "  0.         0.        ]\n",
      " [0.47120313 0.         0.         0.         0.         0.\n",
      "  0.         0.        ]\n",
      " [0.         0.         0.         0.         0.         0.\n",
      "  1.         0.        ]\n",
      " [0.         0.         0.32913035 0.         0.3207091  0.\n",
      "  1.         0.10221446]]\n",
      "\n",
      "Matriz de Itens Otimizada:\n",
      "[[0.         1.         1.         1.         0.         0.\n",
      "  0.79523593 0.        ]\n",
      " [0.         0.         1.         0.08893053 0.         0.\n",
      "  0.         1.        ]\n",
      " [0.         0.         0.         0.38680596 0.         0.\n",
      "  0.         1.        ]\n",
      " [0.         1.         0.         1.         0.         0.\n",
      "  0.         1.        ]\n",
      " [0.         1.         0.         1.         0.         0.41499682\n",
      "  0.         0.        ]\n",
      " [1.         0.         0.         0.         0.         0.\n",
      "  0.         1.        ]\n",
      " [0.         1.         0.         0.14501757 0.         0.\n",
      "  0.         0.        ]\n",
      " [0.         0.         1.         1.         0.         0.\n",
      "  0.         0.        ]\n",
      " [1.         1.         0.         1.         0.         0.\n",
      "  0.         1.        ]\n",
      " [0.         1.         0.         0.94787161 0.         0.\n",
      "  0.         1.        ]]\n",
      "\n",
      "Custo Total Otimizado: [1.42407687]\n"
     ]
    }
   ],
   "source": [
    "# Reformatando os parâmetros otimizados para obter as matrizes de usuários e itens\n",
    "matriz_users_otimizada = best_params[:num_usuarios * p].reshape((num_usuarios, p))\n",
    "matriz_items_otimizada = best_params[num_usuarios * p:].reshape((num_itens, p))\n",
    "\n",
    "print(\"Matriz de Usuários Otimizada:\")\n",
    "print(matriz_users_otimizada)\n",
    "print(\"\\nMatriz de Itens Otimizada:\")\n",
    "print(matriz_items_otimizada)\n",
    "print(\"\\nCusto Total Otimizado:\", best_cost)"
   ]
  },
  {
   "cell_type": "code",
   "execution_count": 71,
   "id": "e6156fe4-fbe3-4db8-9266-5d75dcf24780",
   "metadata": {},
   "outputs": [],
   "source": [
    "#3.92802494 #1.69568776"
   ]
  },
  {
   "cell_type": "code",
   "execution_count": 74,
   "id": "a4bdff34-fab8-4818-8b0e-0a21c6a83f94",
   "metadata": {},
   "outputs": [
    {
     "data": {
      "text/plain": [
       "array([[1., 0., 0., 0., 1., 0., 0., 0., 0., 0.],\n",
       "       [0., 0., 0., 0., 0., 0., 0., 0., 0., 0.],\n",
       "       [0., 0., 0., 0., 0., 0., 0., 0., 0., 0.],\n",
       "       [1., 0., 0., 0., 0., 0., 0., 0., 0., 0.],\n",
       "       [1., 0., 0., 0., 0., 0., 0., 0., 0., 0.]])"
      ]
     },
     "execution_count": 74,
     "metadata": {},
     "output_type": "execute_result"
    }
   ],
   "source": [
    "np.round(matriz_users_otimizada @ matriz_items_otimizada.T)"
   ]
  },
  {
   "cell_type": "code",
   "execution_count": 75,
   "id": "a8227c7e-d073-4c58-a073-7460f0aa2587",
   "metadata": {},
   "outputs": [
    {
     "data": {
      "text/plain": [
       "array([[1, 0, 0, 0, 1, 0, 0, 0, 0, 0],\n",
       "       [0, 0, 0, 0, 0, 0, 0, 0, 0, 0],\n",
       "       [0, 0, 0, 0, 0, 1, 0, 0, 0, 0],\n",
       "       [1, 0, 0, 0, 0, 0, 0, 0, 0, 0],\n",
       "       [1, 1, 0, 0, 0, 0, 0, 0, 0, 0]])"
      ]
     },
     "execution_count": 75,
     "metadata": {},
     "output_type": "execute_result"
    }
   ],
   "source": [
    "interactions"
   ]
  },
  {
   "cell_type": "code",
   "execution_count": null,
   "id": "1efffa58-c51e-484a-8a4b-55c6fd471c81",
   "metadata": {},
   "outputs": [],
   "source": []
  },
  {
   "cell_type": "code",
   "execution_count": 79,
   "id": "8a6444ad-3a3f-4bd8-bb05-8c4d73d144d6",
   "metadata": {},
   "outputs": [
    {
     "name": "stdout",
     "output_type": "stream",
     "text": [
      "Matriz de Usuários Otimizada:\n",
      "[[ 5.67440465e-01  7.97610106e-02 -1.08496094e-01  2.67615266e-02\n",
      "   3.04200088e-01 -5.33894258e-01  5.59106155e-01  1.35833023e-01]\n",
      " [-1.30996635e-06  4.76401352e-06 -1.63069492e-06 -6.27322012e-07\n",
      "  -1.66960033e-06 -2.58806027e-07 -9.85785520e-07  2.04390858e-06]\n",
      " [ 2.36256118e-01  1.66058385e-01 -5.17676196e-01  2.64945013e-01\n",
      "   6.39078345e-01  2.59286236e-01 -2.91636150e-01  3.10204114e-01]\n",
      " [ 3.11660549e-01  4.70890452e-01 -3.14460286e-01  3.61885209e-01\n",
      "  -3.74085575e-01  1.40858367e-01  2.53674336e-01 -3.50070637e-01]\n",
      " [ 8.30855157e-02  5.39495899e-01  3.24023339e-01 -3.52192998e-02\n",
      "   4.97601767e-01 -1.48870097e-01  4.45238091e-02 -4.81524022e-01]]\n",
      "\n",
      "Matriz de Itens Otimizada:\n",
      "[[ 0.88502446  0.99391637  0.49577359  0.32032616  0.18490635  0.17594792\n",
      "   0.9635313  -0.27449627]\n",
      " [ 0.1873942   0.67768361  1.04438949  0.14237594  0.49015639  0.26573437\n",
      "  -0.06165206 -0.17409588]\n",
      " [ 0.09367883  0.00603107  0.3883286   0.11682488  0.07518011  0.49304586\n",
      "   0.34712092  0.23304005]\n",
      " [ 0.43528113  0.2821081   0.86828267  0.18952105 -0.11067814  0.6196208\n",
      "   0.16627878  0.67103212]\n",
      " [ 0.48719111 -0.0450107   0.46235151  0.35808062  0.21698755 -0.18378726\n",
      "   0.91336936  0.68407351]\n",
      " [ 0.2756619   0.38257639  0.22047664  0.32984235  0.61266612  1.16193545\n",
      "   0.25079625  0.89751962]\n",
      " [ 0.14088933  0.21793166  0.47863669  0.29540919 -0.10832317  0.1026467\n",
      "  -0.04078863  0.42150892]\n",
      " [-0.13682867  0.16942971  0.66013735  0.54466206  0.08081517  0.48633158\n",
      "   0.50346339  0.55030402]\n",
      " [-0.05090672  0.05068372  0.15009833 -0.24552552  0.14873851  0.66068326\n",
      "   0.5936612   0.17129856]\n",
      " [ 0.32507032  0.13435706  0.62480562  0.37908788 -0.12594133  0.15874107\n",
      "  -0.12513412  0.40854166]]\n",
      "\n",
      "Custo Total Otimizado: 0.24495617401851077\n"
     ]
    }
   ],
   "source": [
    "from scipy.optimize import minimize\n",
    "\n",
    "# Função de custo para a otimização\n",
    "def custo_otimizacao(params):\n",
    "    matriz_users = params[:num_usuarios * p].reshape((num_usuarios, p))\n",
    "    matriz_items = params[num_usuarios * p:].reshape((num_itens, p))\n",
    "    return calcular_custo(interactions, matriz_users, matriz_items)\n",
    "\n",
    "# Inicialização aleatória dos parâmetros\n",
    "params_iniciais = np.random.rand(num_usuarios * p + num_itens * p)\n",
    "\n",
    "# Otimização usando BFGS\n",
    "resultado = minimize(custo_otimizacao, params_iniciais, method='BFGS')\n",
    "\n",
    "# Obtendo os parâmetros otimizados\n",
    "params_otimizados = resultado.x\n",
    "\n",
    "# Reformatando os parâmetros otimizados para obter as matrizes de usuários e itens\n",
    "matriz_users_otimizada = params_otimizados[:num_usuarios * p].reshape((num_usuarios, p))\n",
    "matriz_items_otimizada = params_otimizados[num_usuarios * p:].reshape((num_itens, p))\n",
    "\n",
    "print(\"Matriz de Usuários Otimizada:\")\n",
    "print(matriz_users_otimizada)\n",
    "print(\"\\nMatriz de Itens Otimizada:\")\n",
    "print(matriz_items_otimizada)\n",
    "print(\"\\nCusto Total Otimizado:\", resultado.fun)"
   ]
  },
  {
   "cell_type": "code",
   "execution_count": 80,
   "id": "6e7e81b2-3f49-480c-a25b-e941771bf36c",
   "metadata": {},
   "outputs": [
    {
     "data": {
      "text/plain": [
       "array([[ 1., -0., -0., -0.,  1., -0., -0., -0., -0., -0.],\n",
       "       [ 0.,  0., -0.,  0., -0.,  0.,  0., -0., -0.,  0.],\n",
       "       [-0., -0.,  0., -0.,  0.,  1.,  0.,  0.,  0., -0.],\n",
       "       [ 1., -0.,  0.,  0.,  0.,  0., -0., -0.,  0., -0.],\n",
       "       [ 1.,  1.,  0., -0., -0.,  0., -0.,  0.,  0., -0.]])"
      ]
     },
     "execution_count": 80,
     "metadata": {},
     "output_type": "execute_result"
    }
   ],
   "source": [
    "np.round(matriz_users_otimizada @ matriz_items_otimizada.T)"
   ]
  },
  {
   "cell_type": "code",
   "execution_count": 81,
   "id": "99fd74d8-b506-4657-8279-d64bdc6b0b07",
   "metadata": {},
   "outputs": [
    {
     "data": {
      "text/plain": [
       "array([[1, 0, 0, 0, 1, 0, 0, 0, 0, 0],\n",
       "       [0, 0, 0, 0, 0, 0, 0, 0, 0, 0],\n",
       "       [0, 0, 0, 0, 0, 1, 0, 0, 0, 0],\n",
       "       [1, 0, 0, 0, 0, 0, 0, 0, 0, 0],\n",
       "       [1, 1, 0, 0, 0, 0, 0, 0, 0, 0]])"
      ]
     },
     "execution_count": 81,
     "metadata": {},
     "output_type": "execute_result"
    }
   ],
   "source": [
    "interactions"
   ]
  },
  {
   "cell_type": "code",
   "execution_count": null,
   "id": "8b21f65d-042c-4c36-9f95-4a207377c75e",
   "metadata": {},
   "outputs": [],
   "source": []
  }
 ],
 "metadata": {
  "kernelspec": {
   "display_name": "Python 3 (ipykernel)",
   "language": "python",
   "name": "python3"
  },
  "language_info": {
   "codemirror_mode": {
    "name": "ipython",
    "version": 3
   },
   "file_extension": ".py",
   "mimetype": "text/x-python",
   "name": "python",
   "nbconvert_exporter": "python",
   "pygments_lexer": "ipython3",
   "version": "3.11.7"
  }
 },
 "nbformat": 4,
 "nbformat_minor": 5
}
